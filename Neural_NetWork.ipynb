{
 "cells": [
  {
   "cell_type": "code",
   "execution_count": 30,
   "metadata": {},
   "outputs": [],
   "source": [
    "#导入数组函数库\n",
    "import numpy as np\n",
    "#导入scipy函数库,实现sigmoid函数\n",
    "import scipy.special\n",
    "#导入作图库\n",
    "import matplotlib.pyplot\n",
    "\n",
    "#定义神经网络\n",
    "class neuralNetwork:\n",
    "    \n",
    "    #初始化神经网络\n",
    "    def _ini_(self,inputnodes,hiddennodes,outputnodes,learningrate):\n",
    "        #设置输入层、隐藏层以及输出层参数\n",
    "        self.inodes=inputnodes\n",
    "        self.hnodes=hiddennodes\n",
    "        self.onodes=outputnodes\n",
    "        \n",
    "        #设置学习率\n",
    "        self.lr=learningrate\n",
    "        \n",
    "        #初始化输入—隐藏权重因子以及隐藏-输出权重因子\n",
    "        #正态分布取样法\n",
    "        self.wih=np.random.normal(0.0,pow(self.hnodes,-0.5),(self.hnodes, self.inodes))\n",
    "        self.who=np.random.normal(0.0,pow(self.onodes,-0.5),(self.onodes, self.hnodes))\n",
    "        #随机初始化发\n",
    "        #self.wih=(np.random.rand(self.hnodes,self.inodes)-0.5)\n",
    "       # self.who=(np.random.rand(self.onodes,self.hnodes)-0.5)\n",
    "        \n",
    "        #激活函数，这里采用sigmoid函数\n",
    "        self.activation_function=lambda x: scipy.special.expit(x)\n",
    "        #return self.wih,self.wih,\n",
    "    \n",
    "        pass\n",
    "    \n",
    "    #训练神经网络\n",
    "    def train(self,inputs_list,targets_list):\n",
    "        #将输入、目标值转换成2维\n",
    "        inputs=np.array(inputs_list,ndmin=2).T\n",
    "        targets=np.array(targets_list,ndmin=2).T\n",
    "        #计算隐藏层输入\n",
    "        hidden_inputs=np.dot(self.wih,inputs)\n",
    "        \n",
    "        #计算隐藏层的输出\n",
    "        hidden_outputs=self.activation_function(hidden_inputs)\n",
    "        \n",
    "        #计算输出层的输入信号\n",
    "        final_inputs=np.dot(self.who,hidden_outputs)\n",
    "        \n",
    "        #计算输出层的最终输出\n",
    "        final_outputs=self.activation_function(final_inputs)\n",
    "        \n",
    "        #计算输出误差\n",
    "        output_errors=targets-final_outputs\n",
    "        \n",
    "        #根据隐藏层和输出层之间权重矩阵的转置，分配输出误差，得到隐藏层误差\n",
    "        hidden_errors=np.dot(self.who.T,output_errors)\n",
    "        \n",
    "        #更新隐藏层与输出层之间的权重值\n",
    "        self.who+=self.lr*np.dot((output_errors*final_outputs*(1-final_outputs)),np.transpose(hidden_outputs))\n",
    "        \n",
    "        #更新隐藏层与输入层之间的权重值\n",
    "        self.wih+=self.lr*np.dot((hidden_errors*hidden_outputs*(1-hidden_outputs)),np.transpose(inputs))\n",
    "        pass\n",
    "    \n",
    "    #查询神经网络\n",
    "    def query(self,inputs_list):\n",
    "        #将输入转换成2维\n",
    "        inputs=np.array(inputs_list,ndmin=2).T\n",
    "        \n",
    "        #计算隐藏层输入\n",
    "        hidden_inputs=np.dot(self.wih,inputs)\n",
    "        \n",
    "        #计算隐藏层的输出\n",
    "        hidden_outputs=self.activation_function(hidden_inputs)\n",
    "        \n",
    "        #计算输出层的输入信号\n",
    "        final_inputs=np.dot(self.who,hidden_outputs)\n",
    "        \n",
    "        #计算输出层的最终输出\n",
    "        final_outputs=self.activation_function(final_inputs)\n",
    "        \n",
    "        return final_outputs\n",
    "    \n",
    "    \n",
    "\n",
    "#输入层、隐藏层及输出层节点\n",
    "input_nodes=784\n",
    "hidden_nodes=200\n",
    "output_nodes=10\n",
    "#设置学习率\n",
    "learning_rate=0.1\n",
    "\n",
    "#创建神经网络实例\n",
    "n = neuralNetwork()\n",
    "n._ini_(input_nodes,hidden_nodes,output_nodes,learning_rate)\n",
    "\n",
    "#从训练集中读取数据\n",
    "training_data_file=open(\"F:\\沈昊\\my_neuralnetwork\\mnist_train.csv\",'r')\n",
    "training_data_list=training_data_file.readlines()\n",
    "training_data_file.close()\n",
    "\n",
    "#开始训练\n",
    "#遍历训练集中的所有训练数据\n",
    "#设置训练世代数\n",
    "epochs=5\n",
    "for e in range(epochs):\n",
    "    for record in training_data_list:\n",
    "        #以“，”分割数据\n",
    "        all_values=record.split(',')\n",
    "        #将输入的范围限定在0.01~1之间\n",
    "        inputs=(np.asfarray(all_values[1:])/255*0.99)+0.01\n",
    "        #print(inputs)\n",
    "        #创建目标输出矩阵，除了目标为0.99，其余都为0.01\n",
    "        targets=np.zeros(output_nodes)+0.01\n",
    "        targets[int(all_values[0])]=0.99\n",
    "        #print(targets)\n",
    "        n.train(inputs,targets)\n",
    "        pass\n",
    "    pass\n",
    "\n"
   ]
  },
  {
   "cell_type": "code",
   "execution_count": 26,
   "metadata": {},
   "outputs": [],
   "source": [
    "#从测试集中读取测试数据\n",
    "test_data_file=open(\"F:\\沈昊\\my_neuralnetwork\\mnist_test.csv\",'r')\n",
    "test_data_list=test_data_file.readlines()\n",
    "test_data_file.close()"
   ]
  },
  {
   "cell_type": "code",
   "execution_count": 27,
   "metadata": {},
   "outputs": [],
   "source": [
    "#测试神经网络\n",
    "#设置一个空的计分卡，用来表征神经网络的好坏\n",
    "scorecard=[]\n",
    "#遍历所有测试集数据\n",
    "for record in test_data_list:\n",
    "    #用“，”分隔数据\n",
    "    all_values=record.split(',')\n",
    "    #找到每一组测试数据的标签值\n",
    "    correct_label=int(all_values[0])\n",
    "  #  print(correct_label,\"正确标签值为\")\n",
    "    #将数据的范围进行限制\n",
    "    inputs=(np.asfarray(all_values[1:])/255*0.99)+0.01\n",
    "    #查询神经网络\n",
    "    outputs=n.query(inputs)\n",
    "    #找到输出结果最大值的索引\n",
    "    label=np.argmax(outputs)\n",
    "   # print(label,\"神经网络的答案为\")\n",
    "    #将结果写入计分表\n",
    "    if(label==correct_label):\n",
    "        #计分表得1分\n",
    "        scorecard.append(1)\n",
    "    else:\n",
    "        #计分表得0分\n",
    "        scorecard.append(0)\n",
    "        pass\n",
    "    pass\n",
    "\n",
    "\n",
    "    \n",
    "    "
   ]
  },
  {
   "cell_type": "code",
   "execution_count": 28,
   "metadata": {},
   "outputs": [],
   "source": [
    "#print(scorecard)"
   ]
  },
  {
   "cell_type": "code",
   "execution_count": 29,
   "metadata": {},
   "outputs": [
    {
     "name": "stdout",
     "output_type": "stream",
     "text": [
      "performance= 0.9666\n"
     ]
    }
   ],
   "source": [
    "#测试成绩打印\n",
    "#计算得分表现\n",
    "scorecard_array=np.asarray(scorecard)\n",
    "print(\"performance=\",scorecard_array.sum()/scorecard_array.size)"
   ]
  },
  {
   "cell_type": "code",
   "execution_count": 21,
   "metadata": {},
   "outputs": [
    {
     "name": "stdout",
     "output_type": "stream",
     "text": [
      "4\n"
     ]
    }
   ],
   "source": [
    "#读取第一组数据\n",
    "all_values=test_data_list[4].split(',')\n",
    "#读取标签值\n",
    "print(all_values[0])"
   ]
  },
  {
   "cell_type": "code",
   "execution_count": 166,
   "metadata": {},
   "outputs": [
    {
     "data": {
      "text/plain": [
       "<matplotlib.image.AxesImage at 0xa4f8288>"
      ]
     },
     "execution_count": 166,
     "metadata": {},
     "output_type": "execute_result"
    },
    {
     "data": {
      "image/png": "[encoded data removed]",
      "text/plain": [
       "<Figure size 432x288 with 1 Axes>"
      ]
     },
     "metadata": {
      "needs_background": "light"
     },
     "output_type": "display_data"
    }
   ],
   "source": [
    "#numpy.asfarray（all_values[1:]）将文本字符串中除了第一个元素的其他文本转换成实数\n",
    "#reshape((28,28)形成28*28的矩阵\n",
    "image_array=numpy.asfarray(all_values[1:]).reshape((28,28))\n",
    "#matplotlib.pyplot.imshow（）绘出图形\n",
    "#cmap='Greys'调色板选择灰度\n",
    "matplotlib.pyplot.imshow(image_array,cmap='Greys',interpolation='none')"
   ]
  },
  {
   "cell_type": "code",
   "execution_count": 167,
   "metadata": {},
   "outputs": [
    {
     "data": {
      "text/plain": [
       "array([[0.02095127],\n",
       "       [0.00969643],\n",
       "       [0.13581382],\n",
       "       [0.03746884],\n",
       "       [0.84790327],\n",
       "       [0.00913689],\n",
       "       [0.01175468],\n",
       "       [0.21999997],\n",
       "       [0.06322942],\n",
       "       [0.01354331]])"
      ]
     },
     "execution_count": 167,
     "metadata": {},
     "output_type": "execute_result"
    }
   ],
   "source": [
    "n.query((np.asfarray(all_values[1:])/255*0.99)+0.01)"
   ]
  },
  {
   "cell_type": "code",
   "execution_count": 135,
   "metadata": {},
   "outputs": [
    {
     "data": {
      "text/plain": [
       "784"
      ]
     },
     "execution_count": 135,
     "metadata": {},
     "output_type": "execute_result"
    }
   ],
   "source": [
    "len(np.asfarray(all_values[1:]))"
   ]
  },
  {
   "cell_type": "code",
   "execution_count": 138,
   "metadata": {},
   "outputs": [
    {
     "name": "stdout",
     "output_type": "stream",
     "text": [
      "[0.         0.         0.         0.         0.         0.\n",
      " 0.         0.         0.         0.         0.         0.\n",
      " 0.         0.         0.         0.         0.         0.\n",
      " 0.         0.         0.         0.         0.         0.\n",
      " 0.         0.         0.         0.         0.         0.\n",
      " 0.         0.         0.         0.         0.         0.\n",
      " 0.         0.         0.         0.         0.         0.\n",
      " 0.         0.         0.         0.         0.         0.\n",
      " 0.         0.         0.         0.         0.         0.\n",
      " 0.         0.         0.         0.         0.         0.\n",
      " 0.         0.         0.         0.         0.         0.\n",
      " 0.         0.         0.         0.         0.         0.\n",
      " 0.         0.         0.         0.         0.         0.\n",
      " 0.         0.         0.         0.         0.         0.\n",
      " 0.         0.         0.         0.         0.         0.\n",
      " 0.         0.         0.         0.         0.         0.\n",
      " 0.         0.         0.         0.         0.         0.\n",
      " 0.         0.         0.         0.         0.         0.\n",
      " 0.         0.         0.         0.         0.         0.\n",
      " 0.         0.         0.         0.         0.         0.\n",
      " 0.         0.         0.         0.         0.         0.\n",
      " 0.         0.         0.         0.         0.         0.\n",
      " 0.         0.         0.         0.         0.         0.\n",
      " 0.         0.         0.         0.         0.         0.\n",
      " 0.         0.         0.         0.         0.         0.\n",
      " 0.         0.         0.         0.         0.         0.\n",
      " 0.         0.         0.         0.         0.         0.\n",
      " 0.         0.         0.         0.         0.         0.\n",
      " 0.         0.         0.         0.         0.         0.\n",
      " 0.         0.         0.         0.         0.         0.05435294\n",
      " 0.57847059 0.74929412 0.01941176 0.         0.         0.\n",
      " 0.         0.         0.         0.         0.         0.\n",
      " 0.         0.         0.         0.         0.         0.\n",
      " 0.         0.         0.         0.         0.         0.\n",
      " 0.         0.         0.35329412 0.86964706 0.98223529 0.98223529\n",
      " 0.07376471 0.         0.         0.         0.         0.\n",
      " 0.         0.         0.         0.         0.         0.\n",
      " 0.         0.         0.         0.         0.         0.\n",
      " 0.         0.         0.         0.         0.         0.10870588\n",
      " 0.91235294 0.98611765 0.98223529 0.98223529 0.64447059 0.06988235\n",
      " 0.         0.         0.         0.         0.         0.\n",
      " 0.         0.         0.         0.         0.         0.\n",
      " 0.         0.         0.         0.         0.         0.\n",
      " 0.         0.         0.         0.55905882 0.98223529 0.98611765\n",
      " 0.98223529 0.98223529 0.98223529 0.924      0.44647059 0.02329412\n",
      " 0.         0.         0.         0.         0.         0.\n",
      " 0.         0.         0.         0.         0.         0.\n",
      " 0.         0.         0.         0.         0.         0.\n",
      " 0.12035294 0.93564706 0.98223529 0.80752941 0.71823529 0.98223529\n",
      " 0.98223529 0.98223529 0.89682353 0.09317647 0.         0.\n",
      " 0.         0.         0.         0.         0.         0.\n",
      " 0.         0.         0.         0.         0.         0.\n",
      " 0.         0.         0.         0.         0.30670588 0.98611765\n",
      " 0.74929412 0.         0.03105882 0.38047059 0.85023529 0.98611765\n",
      " 0.99       0.78035294 0.06988235 0.         0.         0.\n",
      " 0.         0.         0.         0.         0.         0.\n",
      " 0.         0.         0.         0.         0.         0.\n",
      " 0.         0.         0.33388235 0.98223529 0.31058824 0.\n",
      " 0.         0.         0.70658824 0.98223529 0.98611765 0.74152941\n",
      " 0.04658824 0.         0.         0.         0.         0.\n",
      " 0.         0.         0.         0.         0.         0.\n",
      " 0.         0.         0.         0.         0.         0.\n",
      " 0.67941176 0.98223529 0.60176471 0.         0.         0.\n",
      " 0.90847059 0.98223529 0.98611765 0.52411765 0.         0.\n",
      " 0.         0.         0.         0.         0.         0.\n",
      " 0.         0.         0.         0.         0.         0.\n",
      " 0.         0.         0.         0.         0.33388235 0.98223529\n",
      " 0.80752941 0.15529412 0.33       0.64447059 0.97447059 0.92011765\n",
      " 0.98611765 0.91623529 0.16305882 0.         0.         0.\n",
      " 0.         0.         0.         0.         0.         0.\n",
      " 0.         0.         0.         0.         0.         0.\n",
      " 0.         0.         0.06988235 0.924      0.98223529 0.98611765\n",
      " 0.98223529 0.98223529 0.71823529 0.13976471 0.83858824 0.98223529\n",
      " 0.59011765 0.         0.         0.         0.         0.\n",
      " 0.         0.         0.         0.         0.         0.\n",
      " 0.         0.         0.         0.         0.         0.\n",
      " 0.         0.264      0.93176471 0.99       0.98611765 0.56294118\n",
      " 0.03105882 0.         0.52023529 0.98611765 0.86576471 0.13588235\n",
      " 0.         0.         0.         0.         0.         0.\n",
      " 0.         0.         0.         0.         0.         0.\n",
      " 0.         0.         0.         0.         0.         0.\n",
      " 0.264      0.61341176 0.55129412 0.04658824 0.         0.\n",
      " 0.03494118 0.67941176 0.98223529 0.62505882 0.         0.\n",
      " 0.         0.         0.         0.         0.         0.\n",
      " 0.         0.         0.         0.         0.         0.\n",
      " 0.         0.         0.         0.         0.         0.\n",
      " 0.         0.         0.         0.         0.         0.34164706\n",
      " 0.98223529 0.87741176 0.06988235 0.         0.         0.\n",
      " 0.         0.         0.         0.         0.         0.\n",
      " 0.         0.         0.         0.         0.         0.\n",
      " 0.         0.         0.         0.         0.         0.\n",
      " 0.         0.         0.         0.00776471 0.64447059 0.98223529\n",
      " 0.48917647 0.         0.         0.         0.         0.\n",
      " 0.         0.         0.         0.         0.         0.\n",
      " 0.         0.         0.         0.         0.         0.\n",
      " 0.         0.         0.         0.         0.         0.\n",
      " 0.         0.         0.18635294 0.95117647 0.98223529 0.14752941\n",
      " 0.         0.         0.         0.         0.         0.\n",
      " 0.         0.         0.         0.         0.         0.\n",
      " 0.         0.         0.         0.         0.         0.\n",
      " 0.         0.         0.         0.         0.         0.\n",
      " 0.         0.44647059 0.98611765 0.66776471 0.03494118 0.\n",
      " 0.         0.         0.         0.         0.         0.\n",
      " 0.         0.         0.         0.         0.         0.\n",
      " 0.         0.         0.         0.         0.         0.\n",
      " 0.         0.         0.         0.         0.         0.08152941\n",
      " 0.84635294 0.98611765 0.17858824 0.         0.         0.\n",
      " 0.         0.         0.         0.         0.         0.\n",
      " 0.         0.         0.         0.         0.         0.\n",
      " 0.         0.         0.         0.         0.         0.\n",
      " 0.         0.         0.         0.         0.11647059 0.98611765\n",
      " 0.64058824 0.         0.         0.         0.         0.\n",
      " 0.         0.         0.         0.         0.         0.\n",
      " 0.         0.         0.         0.         0.         0.\n",
      " 0.         0.         0.         0.         0.         0.\n",
      " 0.         0.         0.         0.72211765 0.94729412 0.16305882\n",
      " 0.         0.         0.         0.         0.         0.\n",
      " 0.         0.         0.         0.         0.         0.\n",
      " 0.         0.         0.         0.         0.         0.\n",
      " 0.         0.         0.         0.         0.         0.\n",
      " 0.         0.05435294 0.86576471 0.30282353 0.         0.\n",
      " 0.         0.         0.         0.         0.         0.\n",
      " 0.         0.         0.         0.         0.         0.\n",
      " 0.         0.         0.         0.         0.         0.\n",
      " 0.         0.         0.         0.         0.         0.\n",
      " 0.         0.         0.         0.         0.         0.\n",
      " 0.         0.         0.         0.         0.         0.\n",
      " 0.         0.         0.         0.         0.         0.\n",
      " 0.         0.         0.         0.         0.         0.\n",
      " 0.         0.         0.         0.         0.         0.\n",
      " 0.         0.         0.         0.        ]\n"
     ]
    },
    {
     "ename": "TypeError",
     "evalue": "unsupported operand type(s) for +: 'NoneType' and 'float'",
     "output_type": "error",
     "traceback": [
      "\u001b[1;31m---------------------------------------------------------------------------\u001b[0m",
      "\u001b[1;31mTypeError\u001b[0m                                 Traceback (most recent call last)",
      "\u001b[1;32m<ipython-input-138-31e4dfeedb2a>\u001b[0m in \u001b[0;36m<module>\u001b[1;34m\u001b[0m\n\u001b[1;32m----> 1\u001b[1;33m \u001b[0mprint\u001b[0m\u001b[1;33m(\u001b[0m\u001b[0mnp\u001b[0m\u001b[1;33m.\u001b[0m\u001b[0masfarray\u001b[0m\u001b[1;33m(\u001b[0m\u001b[0mall_values\u001b[0m\u001b[1;33m[\u001b[0m\u001b[1;36m1\u001b[0m\u001b[1;33m:\u001b[0m\u001b[1;33m]\u001b[0m\u001b[1;33m)\u001b[0m\u001b[1;33m/\u001b[0m\u001b[1;36m255\u001b[0m\u001b[1;33m*\u001b[0m\u001b[1;36m0.99\u001b[0m\u001b[1;33m)\u001b[0m\u001b[1;33m+\u001b[0m\u001b[1;36m0.01\u001b[0m\u001b[1;33m\u001b[0m\u001b[1;33m\u001b[0m\u001b[0m\n\u001b[0m",
      "\u001b[1;31mTypeError\u001b[0m: unsupported operand type(s) for +: 'NoneType' and 'float'"
     ]
    }
   ],
   "source": [
    "print(np.asfarray(all_values[1:])/255*0.99)+0.01"
   ]
  },
  {
   "cell_type": "code",
   "execution_count": 124,
   "metadata": {},
   "outputs": [
    {
     "data": {
      "text/plain": [
       "array([[-0.10402871],\n",
       "       [ 0.69189638],\n",
       "       [ 1.96260319]])"
      ]
     },
     "execution_count": 124,
     "metadata": {},
     "output_type": "execute_result"
    }
   ],
   "source": [
    "#输入层、隐藏层及输出层节点\n",
    "input_nodes=3\n",
    "hidden_nodes=3\n",
    "output_nodes=3\n",
    "#设置学习率\n",
    "learning_rate=0.3\n",
    "\n",
    "#创建神经网络实例\n",
    "n = neuralNetwork()\n",
    "n._ini_(input_nodes,hidden_nodes,output_nodes,learning_rate)\n",
    "#n._ini_(input_nodes,hidden_nodes,output_nodes,learning_rate)\n",
    "n.query([1,3,-1])\n",
    "#n.self.wih\\"
   ]
  },
  {
   "cell_type": "code",
   "execution_count": 125,
   "metadata": {},
   "outputs": [
    {
     "data": {
      "text/plain": [
       "array([[ 0.09426771, -0.31257877],\n",
       "       [ 0.78213033,  0.10336578],\n",
       "       [-0.04334341,  0.65917362],\n",
       "       [ 0.55478815,  0.20248523],\n",
       "       [ 0.1697426 ,  0.44444796]])"
      ]
     },
     "execution_count": 125,
     "metadata": {},
     "output_type": "execute_result"
    }
   ],
   "source": [
    "np.random.normal(0.0,pow(5,-0.5),(5,2))"
   ]
  },
  {
   "cell_type": "code",
   "execution_count": 66,
   "metadata": {},
   "outputs": [
    {
     "data": {
      "text/plain": [
       "array([[-0.42136536, -0.01000305,  0.91433352,  0.49727757,  0.31332112],\n",
       "       [ 0.24083295,  0.5491724 , -0.83212036, -0.41376463,  0.32328756],\n",
       "       [-0.54203589,  0.21692681,  0.44171997,  0.12060375,  0.23816415],\n",
       "       [ 0.15494017,  0.61522959,  0.36571561,  0.15747065,  0.79897253],\n",
       "       [-0.71061649,  0.14379783,  0.21082498, -0.05646513, -0.2110782 ]])"
      ]
     },
     "execution_count": 66,
     "metadata": {},
     "output_type": "execute_result"
    }
   ],
   "source": [
    "np.random.normal(0.0,pow(5,-0.5),(5,5))"
   ]
  },
  {
   "cell_type": "code",
   "execution_count": 82,
   "metadata": {},
   "outputs": [
    {
     "data": {
      "text/plain": [
       "0.9525741268224334"
      ]
     },
     "execution_count": 82,
     "metadata": {},
     "output_type": "execute_result"
    }
   ],
   "source": [
    "scipy.special.expit(3)"
   ]
  },
  {
   "cell_type": "code",
   "execution_count": 34,
   "metadata": {},
   "outputs": [],
   "source": [
    "#从训练集中读取训练集\n",
    "data_file=open(\"F:\\沈昊\\my_neuralnetwork\\mnist_train_100.csv\",'r')\n",
    "data_list=data_file.readlines()\n",
    "data_file.close()"
   ]
  },
  {
   "cell_type": "code",
   "execution_count": 20,
   "metadata": {},
   "outputs": [
    {
     "data": {
      "text/plain": [
       "'4,0,0,0,0,0,0,0,0,0,0,0,0,0,0,0,0,0,0,0,0,0,0,0,0,0,0,0,0,0,0,0,0,0,0,0,0,0,0,0,0,0,0,0,0,0,0,0,0,0,0,0,0,0,0,0,0,0,0,0,0,0,0,0,0,0,0,0,0,0,0,0,0,0,0,0,0,0,0,0,0,0,0,0,0,0,0,0,0,0,0,0,0,0,0,0,0,0,0,0,0,0,0,0,0,0,0,0,0,0,0,0,0,0,0,0,0,0,0,0,0,0,0,0,0,0,0,0,0,0,0,0,0,0,0,189,190,0,0,0,0,0,0,0,0,0,0,0,0,0,0,0,0,0,0,0,0,0,0,0,0,0,143,247,153,0,0,0,0,0,0,0,0,0,0,0,0,0,0,0,0,0,0,0,0,0,0,0,0,136,247,242,86,0,0,0,0,0,0,0,0,0,0,0,0,0,0,0,0,0,0,0,0,0,0,0,0,192,252,187,0,0,0,0,0,0,0,0,0,0,0,0,0,0,0,0,0,62,185,18,0,0,0,0,89,236,217,47,0,0,0,0,0,0,0,0,0,0,0,0,0,0,0,0,0,216,253,60,0,0,0,0,212,255,81,0,0,0,0,0,0,0,0,0,0,0,0,0,0,0,0,0,0,206,252,68,0,0,0,48,242,253,89,0,0,0,0,0,0,0,0,0,0,0,0,0,0,0,0,0,131,251,212,21,0,0,11,167,252,197,5,0,0,0,0,0,0,0,0,0,0,0,0,0,0,0,0,29,232,247,63,0,0,0,153,252,226,0,0,0,0,0,0,0,0,0,0,0,0,0,0,0,0,0,45,219,252,143,0,0,0,116,249,252,103,0,0,0,0,0,0,0,0,0,0,0,0,0,0,0,4,96,253,255,253,200,122,7,25,201,250,158,0,0,0,0,0,0,0,0,0,0,0,0,0,0,0,0,92,252,252,253,217,252,252,200,227,252,231,0,0,0,0,0,0,0,0,0,0,0,0,0,0,0,0,87,251,247,231,65,48,189,252,252,253,252,251,227,35,0,0,0,0,0,0,0,0,0,0,0,0,0,0,190,221,98,0,0,0,42,196,252,253,252,252,162,0,0,0,0,0,0,0,0,0,0,0,0,0,0,0,111,29,0,0,0,0,62,239,252,86,42,42,14,0,0,0,0,0,0,0,0,0,0,0,0,0,0,0,0,0,0,0,0,15,148,253,218,0,0,0,0,0,0,0,0,0,0,0,0,0,0,0,0,0,0,0,0,0,0,0,0,121,252,231,28,0,0,0,0,0,0,0,0,0,0,0,0,0,0,0,0,0,0,0,0,0,0,0,31,221,251,129,0,0,0,0,0,0,0,0,0,0,0,0,0,0,0,0,0,0,0,0,0,0,0,0,218,252,160,0,0,0,0,0,0,0,0,0,0,0,0,0,0,0,0,0,0,0,0,0,0,0,0,0,122,252,82,0,0,0,0,0,0,0,0,0,0,0,0,0,0,0,0,0,0,0,0,0,0,0,0,0,0,0,0,0,0,0,0,0,0,0,0,0,0,0,0,0,0,0,0,0,0,0,0,0,0,0,0,0,0,0,0,0,0,0,0,0,0,0,0,0,0,0,0,0,0,0,0,0,0,0,0,0,0,0,0,0,0,0,0,0,0,0,0,0,0,0,0,0,0,0,0,0,0,0,0,0,0,0,0,0,0,0,0,0,0,0,0,0,0,0,0,0,0,0,0,0,0,0,0,0,0,0\\n'"
      ]
     },
     "execution_count": 20,
     "metadata": {},
     "output_type": "execute_result"
    }
   ],
   "source": [
    "data_list[9]\n",
    "#len(data_list)"
   ]
  },
  {
   "cell_type": "code",
   "execution_count": 35,
   "metadata": {},
   "outputs": [
    {
     "data": {
      "text/plain": [
       "<matplotlib.image.AxesImage at 0x8485788>"
      ]
     },
     "execution_count": 35,
     "metadata": {},
     "output_type": "execute_result"
    },
    {
     "data": {
      "image/png": "[encoded data removed]",
      "text/plain": [
       "<Figure size 432x288 with 1 Axes>"
      ]
     },
     "metadata": {
      "needs_background": "light"
     },
     "output_type": "display_data"
    }
   ],
   "source": [
    "#导入数组库函数\n",
    "import numpy\n",
    "#导入画图库函数\n",
    "import matplotlib.pyplot\n",
    "#将数组以“，”进行分割\n",
    "all_values=data_list[1].split(',')\n",
    "#numpy.asfarray（all_values[1:]）将文本字符串中除了第一个元素的其他文本转换成实数\n",
    "#reshape((28,28)形成28*28的矩阵\n",
    "image_array=numpy.asfarray(all_values[1:]).reshape((28,28))\n",
    "#matplotlib.pyplot.imshow（）绘出图形\n",
    "#cmap='Greys'调色板选择灰度\n",
    "matplotlib.pyplot.imshow(image_array,cmap='Greys',interpolation='none')"
   ]
  },
  {
   "cell_type": "code",
   "execution_count": 22,
   "metadata": {},
   "outputs": [
    {
     "name": "stdout",
     "output_type": "stream",
     "text": [
      "[0.01       0.01       0.01       0.01       0.01       0.01\n",
      " 0.01       0.01       0.01       0.01       0.01       0.01\n",
      " 0.01       0.01       0.01       0.01       0.01       0.01\n",
      " 0.01       0.01       0.01       0.01       0.01       0.01\n",
      " 0.01       0.01       0.01       0.01       0.01       0.01\n",
      " 0.01       0.01       0.01       0.01       0.01       0.01\n",
      " 0.01       0.01       0.01       0.01       0.01       0.01\n",
      " 0.01       0.01       0.01       0.01       0.01       0.01\n",
      " 0.01       0.01       0.01       0.01       0.01       0.01\n",
      " 0.01       0.01       0.01       0.01       0.01       0.01\n",
      " 0.01       0.01       0.01       0.01       0.01       0.01\n",
      " 0.01       0.01       0.01       0.01       0.01       0.01\n",
      " 0.01       0.01       0.01       0.01       0.01       0.01\n",
      " 0.01       0.01       0.01       0.01       0.01       0.01\n",
      " 0.01       0.01       0.01       0.01       0.01       0.01\n",
      " 0.01       0.01       0.01       0.01       0.01       0.01\n",
      " 0.01       0.01       0.01       0.01       0.01       0.01\n",
      " 0.01       0.01       0.01       0.01       0.01       0.01\n",
      " 0.01       0.01       0.01       0.01       0.01       0.01\n",
      " 0.01       0.01       0.01       0.01       0.01       0.01\n",
      " 0.01       0.01       0.01       0.01       0.01       0.01\n",
      " 0.01       0.208      0.62729412 0.99223529 0.62729412 0.20411765\n",
      " 0.01       0.01       0.01       0.01       0.01       0.01\n",
      " 0.01       0.01       0.01       0.01       0.01       0.01\n",
      " 0.01       0.01       0.01       0.01       0.01       0.01\n",
      " 0.01       0.01       0.01       0.01       0.19635294 0.934\n",
      " 0.98835294 0.98835294 0.98835294 0.93011765 0.01       0.01\n",
      " 0.01       0.01       0.01       0.01       0.01       0.01\n",
      " 0.01       0.01       0.01       0.01       0.01       0.01\n",
      " 0.01       0.01       0.01       0.01       0.01       0.01\n",
      " 0.01       0.21964706 0.89129412 0.99223529 0.98835294 0.93788235\n",
      " 0.91458824 0.98835294 0.23129412 0.03329412 0.01       0.01\n",
      " 0.01       0.01       0.01       0.01       0.01       0.01\n",
      " 0.01       0.01       0.01       0.01       0.01       0.01\n",
      " 0.01       0.01       0.01       0.04882353 0.24294118 0.87964706\n",
      " 0.98835294 0.99223529 0.98835294 0.79423529 0.33611765 0.98835294\n",
      " 0.99223529 0.48364706 0.01       0.01       0.01       0.01\n",
      " 0.01       0.01       0.01       0.01       0.01       0.01\n",
      " 0.01       0.01       0.01       0.01       0.01       0.01\n",
      " 0.01       0.64282353 0.98835294 0.98835294 0.98835294 0.99223529\n",
      " 0.98835294 0.98835294 0.38270588 0.74376471 0.99223529 0.65835294\n",
      " 0.01       0.01       0.01       0.01       0.01       0.01\n",
      " 0.01       0.01       0.01       0.01       0.01       0.01\n",
      " 0.01       0.01       0.01       0.01       0.208      0.934\n",
      " 0.99223529 0.99223529 0.74764706 0.45258824 0.99223529 0.89517647\n",
      " 0.19247059 0.31670588 1.         0.66223529 0.01       0.01\n",
      " 0.01       0.01       0.01       0.01       0.01       0.01\n",
      " 0.01       0.01       0.01       0.01       0.01       0.01\n",
      " 0.01       0.19635294 0.934      0.98835294 0.98835294 0.70494118\n",
      " 0.05658824 0.30117647 0.47976471 0.09152941 0.01       0.01\n",
      " 0.99223529 0.95341176 0.20411765 0.01       0.01       0.01\n",
      " 0.01       0.01       0.01       0.01       0.01       0.01\n",
      " 0.01       0.01       0.01       0.01       0.15752941 0.65058824\n",
      " 0.99223529 0.91458824 0.81752941 0.33611765 0.01       0.01\n",
      " 0.01       0.01       0.01       0.01       0.99223529 0.98835294\n",
      " 0.65058824 0.01       0.01       0.01       0.01       0.01\n",
      " 0.01       0.01       0.01       0.01       0.01       0.01\n",
      " 0.01       0.03717647 0.70105882 0.98835294 0.94176471 0.28564706\n",
      " 0.08376471 0.11870588 0.01       0.01       0.01       0.01\n",
      " 0.01       0.01       0.99223529 0.98835294 0.76705882 0.01\n",
      " 0.01       0.01       0.01       0.01       0.01       0.01\n",
      " 0.01       0.01       0.01       0.01       0.01       0.23129412\n",
      " 0.98835294 0.98835294 0.25458824 0.01       0.01       0.01\n",
      " 0.01       0.01       0.01       0.01       0.01       0.01\n",
      " 0.99223529 0.98835294 0.76705882 0.01       0.01       0.01\n",
      " 0.01       0.01       0.01       0.01       0.01       0.01\n",
      " 0.01       0.01       0.01       0.77870588 0.99223529 0.74764706\n",
      " 0.01       0.01       0.01       0.01       0.01       0.01\n",
      " 0.01       0.01       0.01       0.01       1.         0.99223529\n",
      " 0.77094118 0.01       0.01       0.01       0.01       0.01\n",
      " 0.01       0.01       0.01       0.01       0.01       0.01\n",
      " 0.30505882 0.96505882 0.98835294 0.44482353 0.01       0.01\n",
      " 0.01       0.01       0.01       0.01       0.01       0.01\n",
      " 0.01       0.01       0.99223529 0.98835294 0.58458824 0.01\n",
      " 0.01       0.01       0.01       0.01       0.01       0.01\n",
      " 0.01       0.01       0.01       0.01       0.34       0.98835294\n",
      " 0.90294118 0.10705882 0.01       0.01       0.01       0.01\n",
      " 0.01       0.01       0.01       0.01       0.03717647 0.53411765\n",
      " 0.99223529 0.73211765 0.05658824 0.01       0.01       0.01\n",
      " 0.01       0.01       0.01       0.01       0.01       0.01\n",
      " 0.01       0.01       0.34       0.98835294 0.87576471 0.01\n",
      " 0.01       0.01       0.01       0.01       0.01       0.01\n",
      " 0.01       0.03717647 0.51858824 0.98835294 0.88352941 0.28564706\n",
      " 0.01       0.01       0.01       0.01       0.01       0.01\n",
      " 0.01       0.01       0.01       0.01       0.01       0.01\n",
      " 0.34       0.98835294 0.57294118 0.01       0.01       0.01\n",
      " 0.01       0.01       0.01       0.01       0.19635294 0.65058824\n",
      " 0.98835294 0.68164706 0.01       0.01       0.01       0.01\n",
      " 0.01       0.01       0.01       0.01       0.01       0.01\n",
      " 0.01       0.01       0.01       0.01       0.34388235 0.99223529\n",
      " 0.88352941 0.01       0.01       0.01       0.01       0.01\n",
      " 0.01       0.45258824 0.934      0.99223529 0.63894118 0.01\n",
      " 0.01       0.01       0.01       0.01       0.01       0.01\n",
      " 0.01       0.01       0.01       0.01       0.01       0.01\n",
      " 0.01       0.01       0.34       0.98835294 0.97670588 0.57682353\n",
      " 0.19635294 0.12258824 0.34       0.70105882 0.88352941 0.99223529\n",
      " 0.87576471 0.65835294 0.22741176 0.01       0.01       0.01\n",
      " 0.01       0.01       0.01       0.01       0.01       0.01\n",
      " 0.01       0.01       0.01       0.01       0.01       0.01\n",
      " 0.34       0.98835294 0.98835294 0.98835294 0.89905882 0.84470588\n",
      " 0.98835294 0.98835294 0.98835294 0.77094118 0.51470588 0.01\n",
      " 0.01       0.01       0.01       0.01       0.01       0.01\n",
      " 0.01       0.01       0.01       0.01       0.01       0.01\n",
      " 0.01       0.01       0.01       0.01       0.11870588 0.78258824\n",
      " 0.98835294 0.98835294 0.99223529 0.98835294 0.98835294 0.91458824\n",
      " 0.57294118 0.01       0.01       0.01       0.01       0.01\n",
      " 0.01       0.01       0.01       0.01       0.01       0.01\n",
      " 0.01       0.01       0.01       0.01       0.01       0.01\n",
      " 0.01       0.01       0.01       0.10705882 0.50694118 0.98835294\n",
      " 0.99223529 0.98835294 0.55741176 0.15364706 0.01       0.01\n",
      " 0.01       0.01       0.01       0.01       0.01       0.01\n",
      " 0.01       0.01       0.01       0.01       0.01       0.01\n",
      " 0.01       0.01       0.01       0.01       0.01       0.01\n",
      " 0.01       0.01       0.01       0.01       0.01       0.01\n",
      " 0.01       0.01       0.01       0.01       0.01       0.01\n",
      " 0.01       0.01       0.01       0.01       0.01       0.01\n",
      " 0.01       0.01       0.01       0.01       0.01       0.01\n",
      " 0.01       0.01       0.01       0.01       0.01       0.01\n",
      " 0.01       0.01       0.01       0.01       0.01       0.01\n",
      " 0.01       0.01       0.01       0.01       0.01       0.01\n",
      " 0.01       0.01       0.01       0.01       0.01       0.01\n",
      " 0.01       0.01       0.01       0.01       0.01       0.01\n",
      " 0.01       0.01       0.01       0.01       0.01       0.01\n",
      " 0.01       0.01       0.01       0.01       0.01       0.01\n",
      " 0.01       0.01       0.01       0.01       0.01       0.01\n",
      " 0.01       0.01       0.01       0.01       0.01       0.01\n",
      " 0.01       0.01       0.01       0.01       0.01       0.01\n",
      " 0.01       0.01       0.01       0.01       0.01       0.01\n",
      " 0.01       0.01       0.01       0.01       0.01       0.01\n",
      " 0.01       0.01       0.01       0.01       0.01       0.01\n",
      " 0.01       0.01       0.01       0.01      ]\n"
     ]
    }
   ],
   "source": [
    "#将颜色输入范围（0~255）调整至0.01到1\n",
    "scaled_input=(numpy.asfarray(all_values[1:])/255*0.99)+0.01\n",
    "print(scaled_input)"
   ]
  },
  {
   "cell_type": "code",
   "execution_count": 24,
   "metadata": {},
   "outputs": [
    {
     "name": "stdout",
     "output_type": "stream",
     "text": [
      "[0.99 0.01 0.01 0.01 0.01 0.01 0.01 0.01 0.01 0.01]\n"
     ]
    }
   ],
   "source": [
    "#构建目标矩阵\n",
    "onodes=10\n",
    "targets=numpy.zeros(onodes)+0.01\n",
    "targets[int(all_values[0])]=0.99\n",
    "print(targets)"
   ]
  },
  {
   "cell_type": "code",
   "execution_count": 38,
   "metadata": {},
   "outputs": [
    {
     "name": "stdout",
     "output_type": "stream",
     "text": [
      "0\n"
     ]
    }
   ],
   "source": [
    "print(all_values[100])"
   ]
  }
 ],
 "metadata": {
  "kernelspec": {
   "display_name": "Python 3",
   "language": "python",
   "name": "python3"
  },
  "language_info": {
   "codemirror_mode": {
    "name": "ipython",
    "version": 3
   },
   "file_extension": ".py",
   "mimetype": "text/x-python",
   "name": "python",
   "nbconvert_exporter": "python",
   "pygments_lexer": "ipython3",
   "version": "3.7.4"
  }
 },
 "nbformat": 4,
 "nbformat_minor": 2
}
